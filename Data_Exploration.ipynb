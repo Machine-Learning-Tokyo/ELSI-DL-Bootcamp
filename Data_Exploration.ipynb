{
  "nbformat": 4,
  "nbformat_minor": 0,
  "metadata": {
    "colab": {
      "name": "Data-Exploration.ipynb",
      "version": "0.3.2",
      "provenance": [],
      "collapsed_sections": [
        "CyNk2BlbPlOF",
        "9fUQuhaHpEqf",
        "tRmRQqSlpq8F",
        "4qnWvSlKvfdM",
        "p1sg4YGWvrf9",
        "Ir1UMfoRv4cL",
        "vAfdFwGcwLch",
        "zoEw9gbBC-PO",
        "56nxlQq8DBLC",
        "5zoYXnYCDfhv",
        "7-YuYe6SOx-A"
      ]
    },
    "kernelspec": {
      "name": "python3",
      "display_name": "Python 3"
    },
    "accelerator": "GPU"
  },
  "cells": [
    {
      "cell_type": "markdown",
      "metadata": {
        "id": "NbUYosCxkgcy",
        "colab_type": "text"
      },
      "source": [
        "# Data Exploration"
      ]
    },
    {
      "cell_type": "markdown",
      "metadata": {
        "id": "jYRPyq37kukI",
        "colab_type": "text"
      },
      "source": [
        "- Import packages"
      ]
    },
    {
      "cell_type": "code",
      "metadata": {
        "id": "GFnlYbKjsdpr",
        "colab_type": "code",
        "colab": {}
      },
      "source": [
        "import os\n",
        "import csv\n",
        "import numpy as np\n",
        "from imutils import paths\n",
        "from pathlib import Path\n",
        "from google.colab import drive\n",
        "import pandas as pd\n",
        "import matplotlib.pyplot as plt\n",
        "#drive.mount('/content/gdrive')"
      ],
      "execution_count": 0,
      "outputs": []
    },
    {
      "cell_type": "markdown",
      "metadata": {
        "id": "EyRFXmSrkVgq",
        "colab_type": "text"
      },
      "source": [
        "### Make a subset (small part of data)"
      ]
    },
    {
      "cell_type": "markdown",
      "metadata": {
        "id": "Nus0QwNawb2x",
        "colab_type": "text"
      },
      "source": [
        "- We make a small dataset  to have insight into  original one"
      ]
    },
    {
      "cell_type": "code",
      "metadata": {
        "id": "znMXBWIqeh_X",
        "colab_type": "code",
        "outputId": "a24eb9ba-1bf6-42de-8866-611e34aa4f92",
        "colab": {
          "base_uri": "https://localhost:8080/",
          "height": 119
        }
      },
      "source": [
        "# X_train = pd.read_csv('X_train_sat6.csv')\n",
        "# y_train = pd.read_csv('y_train_sat6.csv')\n",
        "# !head -1000 X_train_sat6.csv > '/content/gdrive/My Drive/X_train_subset.csv'\n",
        "# !head -1000 y_train_sat6.csv > '/content/gdrive/My Drive/y_train_subset.csv'\n",
        "\n",
        "!rm -r \"/content/gdrive/ELSI-DL-Bootcamp\"\n",
        "!cd \"/content/gdrive\" && git clone --single-branch --branch 'feat#data_exploration' https://github.com/Machine-Learning-Tokyo/ELSI-DL-Bootcamp.git\n"
      ],
      "execution_count": 102,
      "outputs": [
        {
          "output_type": "stream",
          "text": [
            "Cloning into 'ELSI-DL-Bootcamp'...\n",
            "remote: Enumerating objects: 48, done.\u001b[K\n",
            "remote: Counting objects: 100% (48/48), done.\u001b[K\n",
            "remote: Compressing objects: 100% (39/39), done.\u001b[K\n",
            "remote: Total 48 (delta 16), reused 28 (delta 7), pack-reused 0\u001b[K\n",
            "Unpacking objects: 100% (48/48), done.\n"
          ],
          "name": "stdout"
        }
      ]
    },
    {
      "cell_type": "markdown",
      "metadata": {
        "id": "iiP6vJXik0JY",
        "colab_type": "text"
      },
      "source": [
        "### Print current folder"
      ]
    },
    {
      "cell_type": "code",
      "metadata": {
        "id": "OsCWipWOeeet",
        "colab_type": "code",
        "outputId": "c682e952-5b27-45e2-f255-1b40875a8064",
        "colab": {
          "base_uri": "https://localhost:8080/",
          "height": 153
        }
      },
      "source": [
        "from subprocess import check_output\n",
        "print(check_output([\"ls\", \"./gdrive/ELSI-DL-Bootcamp\"]).decode(\"utf8\"))"
      ],
      "execution_count": 103,
      "outputs": [
        {
          "output_type": "stream",
          "text": [
            "Data_Exploration_and_Visualization.ipynb\n",
            "deepsat.png\n",
            "kaggle_sat.ipynb\n",
            "README.md\n",
            "sat6annotations.csv\n",
            "X_train_subset.csv\n",
            "y_train_subset.csv\n",
            "\n"
          ],
          "name": "stdout"
        }
      ]
    },
    {
      "cell_type": "markdown",
      "metadata": {
        "id": "jS3rnIdRk6VG",
        "colab_type": "text"
      },
      "source": [
        "### Load dataset"
      ]
    },
    {
      "cell_type": "code",
      "metadata": {
        "id": "w0Oe7cVzYTkd",
        "colab_type": "code",
        "outputId": "57b4652f-c321-4b2e-a035-f4c27d51ad47",
        "colab": {
          "base_uri": "https://localhost:8080/",
          "height": 68
        }
      },
      "source": [
        "X_train = pd.read_csv('/content/gdrive/ELSI-DL-Bootcamp/X_train_subset.csv',header=None)\n",
        "y_train = pd.read_csv('/content/gdrive/ELSI-DL-Bootcamp/y_train_subset.csv',header=None)\n",
        "class_names = list(pd.read_csv('/content/gdrive/ELSI-DL-Bootcamp/sat6annotations.csv', header=None)[0])\n",
        "\n",
        "print(\"Shape of X_train: {}\".format(X_train.shape))\n",
        "print(\"Shape of y_train: {}\".format(y_train.shape))\n",
        "print(\"Class names: {}\".format(class_names))"
      ],
      "execution_count": 160,
      "outputs": [
        {
          "output_type": "stream",
          "text": [
            "Shape of X_train: (3000, 3136)\n",
            "Shape of y_train: (3000, 6)\n",
            "Class names: ['building', 'barren_land', 'trees', 'grassland', 'road', 'water']\n"
          ],
          "name": "stdout"
        }
      ]
    },
    {
      "cell_type": "markdown",
      "metadata": {
        "id": "bQ4abPcKm9l6",
        "colab_type": "text"
      },
      "source": [
        "- Original images are in shape of (999, 28, 28, 4) --> (samples, height, width, channel) , but were given in (999, 3136)\n",
        "- So we need to reshape them first to have a standard image format"
      ]
    },
    {
      "cell_type": "markdown",
      "metadata": {
        "id": "cbYGrrWqlCYI",
        "colab_type": "text"
      },
      "source": [
        "### Reshape and check dimensions again"
      ]
    },
    {
      "cell_type": "code",
      "metadata": {
        "id": "XBAEJO1BekRh",
        "colab_type": "code",
        "outputId": "c292b717-65b0-4e99-d08d-39d7867aeffb",
        "colab": {
          "base_uri": "https://localhost:8080/",
          "height": 51
        }
      },
      "source": [
        "X_train_array = X_train.values.reshape((-1,28,28,4)).clip(0,255).astype(np.uint8)\n",
        "y_train_array = y_train.values.getfield(dtype=np.int8)\n",
        "\n",
        "print('X_train_shape:',X_train_array.shape)\n",
        "print('y_train_shape:',y_train_array.shape)"
      ],
      "execution_count": 161,
      "outputs": [
        {
          "output_type": "stream",
          "text": [
            "X_train_shape: (3000, 28, 28, 4)\n",
            "y_train_shape: (3000, 6)\n"
          ],
          "name": "stdout"
        }
      ]
    },
    {
      "cell_type": "markdown",
      "metadata": {
        "id": "H-CgrzRhnjEd",
        "colab_type": "text"
      },
      "source": [
        "- classes are seen in shape of (999,6) where 6 is index size of encoded labels\n",
        "- therefore we should decode each label to count and visualize distribution of classes"
      ]
    },
    {
      "cell_type": "markdown",
      "metadata": {
        "id": "fJmMw7N0OGAm",
        "colab_type": "text"
      },
      "source": [
        "### Visualize some samples"
      ]
    },
    {
      "cell_type": "code",
      "metadata": {
        "id": "pM7o25L2OKyC",
        "colab_type": "code",
        "colab": {
          "base_uri": "https://localhost:8080/",
          "height": 499
        },
        "outputId": "fe8c42b0-e228-4481-b54a-3beaaf2daa8c"
      },
      "source": [
        "\n",
        "def plot_samples(channel):\n",
        "\n",
        "  fig = plt.figure(1,figsize=(8,8))\n",
        "  for i in range(16):\n",
        "      ax = fig.add_subplot(4,4,i+1)\n",
        "      img = X_train_array[i,...,:channel]\n",
        "      ax.imshow(img,cmap='gray')\n",
        "      ax.set_title(np.argmax(y_train_array[i]),fontsize=12)\n",
        "      ax.axis('off')\n",
        "\n",
        "  plt.show()\n",
        "  \n",
        "plot_samples(channel=3)"
      ],
      "execution_count": 86,
      "outputs": [
        {
          "output_type": "display_data",
          "data": {
            "image/png": "[encoded data removed]",
            "text/plain": [
              "<Figure size 576x576 with 16 Axes>"
            ]
          },
          "metadata": {
            "tags": []
          }
        }
      ]
    },
    {
      "cell_type": "markdown",
      "metadata": {
        "id": "d57nb61hTjDv",
        "colab_type": "text"
      },
      "source": [
        "- Channel 4 contains Near-infraded information(pixels)"
      ]
    },
    {
      "cell_type": "code",
      "metadata": {
        "id": "d_4KSkh2SvwI",
        "colab_type": "code",
        "colab": {
          "base_uri": "https://localhost:8080/",
          "height": 499
        },
        "outputId": "526e0abf-6707-4dc0-c1bd-dcdcccc56c65"
      },
      "source": [
        "plot_samples(channel=4)"
      ],
      "execution_count": 84,
      "outputs": [
        {
          "output_type": "display_data",
          "data": {
            "image/png": "[encoded data removed]",
            "text/plain": [
              "<Figure size 576x576 with 16 Axes>"
            ]
          },
          "metadata": {
            "tags": []
          }
        }
      ]
    },
    {
      "cell_type": "markdown",
      "metadata": {
        "id": "pWv7xv-UlWum",
        "colab_type": "text"
      },
      "source": [
        "### Decoding classes "
      ]
    },
    {
      "cell_type": "markdown",
      "metadata": {
        "id": "EhHhWKJeyvVP",
        "colab_type": "text"
      },
      "source": [
        "- Encoding Example:"
      ]
    },
    {
      "cell_type": "code",
      "metadata": {
        "id": "PtsnE5Wvysr4",
        "colab_type": "code",
        "outputId": "58c4b132-9958-4128-f018-a9c0f2677876",
        "colab": {
          "base_uri": "https://localhost:8080/",
          "height": 119
        }
      },
      "source": [
        "import numpy as np\n",
        "from keras.utils import to_categorical\n",
        "data = np.array([1, 5, 3, 8])\n",
        "data_encoded = to_categorical(data)\n",
        "print(data)\n",
        "print(data_encoded)"
      ],
      "execution_count": 0,
      "outputs": [
        {
          "output_type": "stream",
          "text": [
            "Using TensorFlow backend.\n"
          ],
          "name": "stderr"
        },
        {
          "output_type": "stream",
          "text": [
            "[1 5 3 8]\n",
            "[[0. 1. 0. 0. 0. 0. 0. 0. 0.]\n",
            " [0. 0. 0. 0. 0. 1. 0. 0. 0.]\n",
            " [0. 0. 0. 1. 0. 0. 0. 0. 0.]\n",
            " [0. 0. 0. 0. 0. 0. 0. 0. 1.]]\n"
          ],
          "name": "stdout"
        }
      ]
    },
    {
      "cell_type": "markdown",
      "metadata": {
        "id": "lX5kIgy__TE2",
        "colab_type": "text"
      },
      "source": [
        "- original labels given:"
      ]
    },
    {
      "cell_type": "code",
      "metadata": {
        "id": "1yChEi6xyBlS",
        "colab_type": "code",
        "outputId": "7570f843-7ec6-49ef-c485-f250a6ba5c4a",
        "colab": {
          "base_uri": "https://localhost:8080/",
          "height": 359
        }
      },
      "source": [
        "y_train.head(10)"
      ],
      "execution_count": 162,
      "outputs": [
        {
          "output_type": "execute_result",
          "data": {
            "text/html": [
              "<div>\n",
              "<style scoped>\n",
              "    .dataframe tbody tr th:only-of-type {\n",
              "        vertical-align: middle;\n",
              "    }\n",
              "\n",
              "    .dataframe tbody tr th {\n",
              "        vertical-align: top;\n",
              "    }\n",
              "\n",
              "    .dataframe thead th {\n",
              "        text-align: right;\n",
              "    }\n",
              "</style>\n",
              "<table border=\"1\" class=\"dataframe\">\n",
              "  <thead>\n",
              "    <tr style=\"text-align: right;\">\n",
              "      <th></th>\n",
              "      <th>0</th>\n",
              "      <th>1</th>\n",
              "      <th>2</th>\n",
              "      <th>3</th>\n",
              "      <th>4</th>\n",
              "      <th>5</th>\n",
              "    </tr>\n",
              "  </thead>\n",
              "  <tbody>\n",
              "    <tr>\n",
              "      <th>0</th>\n",
              "      <td>0</td>\n",
              "      <td>0</td>\n",
              "      <td>1</td>\n",
              "      <td>0</td>\n",
              "      <td>0</td>\n",
              "      <td>0</td>\n",
              "    </tr>\n",
              "    <tr>\n",
              "      <th>1</th>\n",
              "      <td>0</td>\n",
              "      <td>1</td>\n",
              "      <td>0</td>\n",
              "      <td>0</td>\n",
              "      <td>0</td>\n",
              "      <td>0</td>\n",
              "    </tr>\n",
              "    <tr>\n",
              "      <th>2</th>\n",
              "      <td>0</td>\n",
              "      <td>0</td>\n",
              "      <td>0</td>\n",
              "      <td>0</td>\n",
              "      <td>0</td>\n",
              "      <td>1</td>\n",
              "    </tr>\n",
              "    <tr>\n",
              "      <th>3</th>\n",
              "      <td>0</td>\n",
              "      <td>0</td>\n",
              "      <td>0</td>\n",
              "      <td>0</td>\n",
              "      <td>0</td>\n",
              "      <td>1</td>\n",
              "    </tr>\n",
              "    <tr>\n",
              "      <th>4</th>\n",
              "      <td>0</td>\n",
              "      <td>0</td>\n",
              "      <td>0</td>\n",
              "      <td>0</td>\n",
              "      <td>0</td>\n",
              "      <td>1</td>\n",
              "    </tr>\n",
              "    <tr>\n",
              "      <th>5</th>\n",
              "      <td>1</td>\n",
              "      <td>0</td>\n",
              "      <td>0</td>\n",
              "      <td>0</td>\n",
              "      <td>0</td>\n",
              "      <td>0</td>\n",
              "    </tr>\n",
              "    <tr>\n",
              "      <th>6</th>\n",
              "      <td>1</td>\n",
              "      <td>0</td>\n",
              "      <td>0</td>\n",
              "      <td>0</td>\n",
              "      <td>0</td>\n",
              "      <td>0</td>\n",
              "    </tr>\n",
              "    <tr>\n",
              "      <th>7</th>\n",
              "      <td>0</td>\n",
              "      <td>0</td>\n",
              "      <td>0</td>\n",
              "      <td>0</td>\n",
              "      <td>0</td>\n",
              "      <td>1</td>\n",
              "    </tr>\n",
              "    <tr>\n",
              "      <th>8</th>\n",
              "      <td>0</td>\n",
              "      <td>1</td>\n",
              "      <td>0</td>\n",
              "      <td>0</td>\n",
              "      <td>0</td>\n",
              "      <td>0</td>\n",
              "    </tr>\n",
              "    <tr>\n",
              "      <th>9</th>\n",
              "      <td>0</td>\n",
              "      <td>0</td>\n",
              "      <td>1</td>\n",
              "      <td>0</td>\n",
              "      <td>0</td>\n",
              "      <td>0</td>\n",
              "    </tr>\n",
              "  </tbody>\n",
              "</table>\n",
              "</div>"
            ],
            "text/plain": [
              "   0  1  2  3  4  5\n",
              "0  0  0  1  0  0  0\n",
              "1  0  1  0  0  0  0\n",
              "2  0  0  0  0  0  1\n",
              "3  0  0  0  0  0  1\n",
              "4  0  0  0  0  0  1\n",
              "5  1  0  0  0  0  0\n",
              "6  1  0  0  0  0  0\n",
              "7  0  0  0  0  0  1\n",
              "8  0  1  0  0  0  0\n",
              "9  0  0  1  0  0  0"
            ]
          },
          "metadata": {
            "tags": []
          },
          "execution_count": 162
        }
      ]
    },
    {
      "cell_type": "markdown",
      "metadata": {
        "id": "TvqGaVbGolXO",
        "colab_type": "text"
      },
      "source": [
        "- In order to decode values, we will use numpy's argmax function, which returns us the index of maximum value for each row"
      ]
    },
    {
      "cell_type": "code",
      "metadata": {
        "id": "rJk_G_O-ekZf",
        "colab_type": "code",
        "colab": {
          "base_uri": "https://localhost:8080/",
          "height": 34
        },
        "outputId": "5042f170-8cdf-44ee-849b-d626eda2691b"
      },
      "source": [
        "class_ = []\n",
        "\n",
        "# we use y_train as dataframe\n",
        "\n",
        "for inx,cols in y_train.iterrows():\n",
        "  \n",
        "    #print(cols.to_list())\n",
        "    class_.append(np.argmax(cols.to_list()))\n",
        "    \n",
        "# make DataFrame \n",
        "y_train = pd.DataFrame(class_,columns=['class_name'])\n",
        "\n",
        "print('y_train shape:', y_train.shape)"
      ],
      "execution_count": 163,
      "outputs": [
        {
          "output_type": "stream",
          "text": [
            "y_train shape: (3000, 1)\n"
          ],
          "name": "stdout"
        }
      ]
    },
    {
      "cell_type": "markdown",
      "metadata": {
        "id": "9fUQuhaHpEqf",
        "colab_type": "text"
      },
      "source": [
        "### Check number  of samples for each class \n",
        "- classes : (0,1,2,3,4,5)"
      ]
    },
    {
      "cell_type": "code",
      "metadata": {
        "id": "cCTku31OeXiM",
        "colab_type": "code",
        "outputId": "0c42470d-a090-430e-ea71-3c4e3e7abda2",
        "colab": {
          "base_uri": "https://localhost:8080/",
          "height": 136
        }
      },
      "source": [
        "y_train['class_name'].value_counts()"
      ],
      "execution_count": 164,
      "outputs": [
        {
          "output_type": "execute_result",
          "data": {
            "text/plain": [
              "5    1111\n",
              "1     659\n",
              "2     526\n",
              "3     495\n",
              "0     147\n",
              "4      62\n",
              "Name: class_name, dtype: int64"
            ]
          },
          "metadata": {
            "tags": []
          },
          "execution_count": 164
        }
      ]
    },
    {
      "cell_type": "markdown",
      "metadata": {
        "id": "C_mMwgOPphH2",
        "colab_type": "text"
      },
      "source": [
        "- Alternativly we can use 'Counter' function as well"
      ]
    },
    {
      "cell_type": "code",
      "metadata": {
        "id": "K51S3McPeG_z",
        "colab_type": "code",
        "outputId": "db1cc792-c9f3-480d-cefe-672ac6ecd75e",
        "colab": {
          "base_uri": "https://localhost:8080/",
          "height": 34
        }
      },
      "source": [
        "from collections import Counter\n",
        "\n",
        "Counter(class_).most_common()"
      ],
      "execution_count": 165,
      "outputs": [
        {
          "output_type": "execute_result",
          "data": {
            "text/plain": [
              "[(5, 1111), (1, 659), (2, 526), (3, 495), (0, 147), (4, 62)]"
            ]
          },
          "metadata": {
            "tags": []
          },
          "execution_count": 165
        }
      ]
    },
    {
      "cell_type": "markdown",
      "metadata": {
        "id": "tRmRQqSlpq8F",
        "colab_type": "text"
      },
      "source": [
        "### Visualize class distribution"
      ]
    },
    {
      "cell_type": "code",
      "metadata": {
        "id": "fLK9GVw3ekqz",
        "colab_type": "code",
        "outputId": "0a28a58b-90a8-40ce-c0d5-b761c282b02a",
        "colab": {
          "base_uri": "https://localhost:8080/",
          "height": 278
        }
      },
      "source": [
        "y_train.class_name.value_counts().plot(kind='bar',title='Number of classes')\n",
        "# plt.tight_layout()\n",
        "# plt.xticks(range(0,6), y_train.index, fontsize=12)\n",
        "plt.show()"
      ],
      "execution_count": 169,
      "outputs": [
        {
          "output_type": "display_data",
          "data": {
            "image/png": "[encoded data removed]",
            "text/plain": [
              "<Figure size 432x288 with 1 Axes>"
            ]
          },
          "metadata": {
            "tags": []
          }
        }
      ]
    },
    {
      "cell_type": "markdown",
      "metadata": {
        "id": "onBkBBFeqFGc",
        "colab_type": "text"
      },
      "source": [
        "- As it is seen on the graph, Class '5' has more and '4' has less samples"
      ]
    },
    {
      "cell_type": "markdown",
      "metadata": {
        "id": "L6gMYPvRjd2t",
        "colab_type": "text"
      },
      "source": [
        "## Undersampling"
      ]
    },
    {
      "cell_type": "markdown",
      "metadata": {
        "id": "PtlXvQq6ApT3",
        "colab_type": "text"
      },
      "source": [
        "- To balance our dataset, we can reduce major classes to minor ones in number"
      ]
    },
    {
      "cell_type": "code",
      "metadata": {
        "id": "ynlaIiRbf7t9",
        "colab_type": "code",
        "outputId": "ac573ebb-5a17-4c85-922e-16cc16608401",
        "colab": {
          "base_uri": "https://localhost:8080/",
          "height": 34
        }
      },
      "source": [
        "grouped = y_train.groupby('class_name')\n",
        "y_train_under_sampled = grouped.apply(lambda x: x.sample(grouped.size().min()).reset_index(drop=True))\n",
        "Counter(y_train_under_sampled['class_name'].values).most_common()"
      ],
      "execution_count": 0,
      "outputs": [
        {
          "output_type": "execute_result",
          "data": {
            "text/plain": [
              "[(0, 24), (1, 24), (2, 24), (3, 24), (4, 24), (5, 24)]"
            ]
          },
          "metadata": {
            "tags": []
          },
          "execution_count": 40
        }
      ]
    },
    {
      "cell_type": "code",
      "metadata": {
        "id": "uz0AnKEpeGTC",
        "colab_type": "code",
        "outputId": "bf90a885-b895-4e3e-db3b-58b8a10e528d",
        "colab": {
          "base_uri": "https://localhost:8080/",
          "height": 278
        }
      },
      "source": [
        "y_train_under_sampled.class_name.value_counts().plot(kind='bar',title='Number of classes')\n",
        "plt.show()"
      ],
      "execution_count": 0,
      "outputs": [
        {
          "output_type": "display_data",
          "data": {
            "image/png": "[encoded data removed]",
            "text/plain": [
              "<Figure size 432x288 with 1 Axes>"
            ]
          },
          "metadata": {
            "tags": []
          }
        }
      ]
    },
    {
      "cell_type": "markdown",
      "metadata": {
        "id": "F8eHUvzAjt_i",
        "colab_type": "text"
      },
      "source": [
        "## Over-sampling"
      ]
    },
    {
      "cell_type": "markdown",
      "metadata": {
        "id": "kKpCdDpfu3RO",
        "colab_type": "text"
      },
      "source": [
        "- Oversampling refers augmentation when handling with images\n",
        "- Following example can be considered as for numerical data over-sampling, since we can fill new samples by mean and variance "
      ]
    },
    {
      "cell_type": "markdown",
      "metadata": {
        "id": "4qnWvSlKvfdM",
        "colab_type": "text"
      },
      "source": [
        "### Let's save first counts for each class "
      ]
    },
    {
      "cell_type": "code",
      "metadata": {
        "id": "qjAqIeS0jwTN",
        "colab_type": "code",
        "colab": {}
      },
      "source": [
        "class_5,class_1,class_3,class_2,class_0,class_4 = y_train.class_name.value_counts()"
      ],
      "execution_count": 0,
      "outputs": []
    },
    {
      "cell_type": "markdown",
      "metadata": {
        "id": "p1sg4YGWvrf9",
        "colab_type": "text"
      },
      "source": [
        "### Then let's seperate our dataset into every class to apply over-sampling seperately "
      ]
    },
    {
      "cell_type": "code",
      "metadata": {
        "id": "DrqO_PPqjwku",
        "colab_type": "code",
        "colab": {}
      },
      "source": [
        "y_train_0 = y_train.class_name[y_train.class_name == 0]\n",
        "y_train_1 = y_train.class_name[y_train.class_name == 1]\n",
        "y_train_2 = y_train.class_name[y_train.class_name == 2]\n",
        "y_train_3 = y_train.class_name[y_train.class_name == 3]\n",
        "y_train_5 = y_train.class_name[y_train.class_name == 5]\n",
        "y_train_4 = y_train.class_name[y_train.class_name == 4]\n"
      ],
      "execution_count": 0,
      "outputs": []
    },
    {
      "cell_type": "markdown",
      "metadata": {
        "id": "Ir1UMfoRv4cL",
        "colab_type": "text"
      },
      "source": [
        "### Applying over-sampling for the Class '0' and Class '4' by referring Class '2'"
      ]
    },
    {
      "cell_type": "code",
      "metadata": {
        "id": "MIsQCR6lu19k",
        "colab_type": "code",
        "colab": {}
      },
      "source": [
        "y_train_0 = y_train_0.sample(class_2,replace=True)\n",
        "y_train_4 = y_train_4.sample(class_2,replace=True)\n",
        "\n",
        "y_train_over_sampled = pd.concat([y_train_0,y_train_1,y_train_2,y_train_3,y_train_4,y_train_5],axis=0)"
      ],
      "execution_count": 0,
      "outputs": []
    },
    {
      "cell_type": "markdown",
      "metadata": {
        "id": "vAfdFwGcwLch",
        "colab_type": "text"
      },
      "source": [
        "### Visualize again"
      ]
    },
    {
      "cell_type": "code",
      "metadata": {
        "id": "c1J4VLNLrwVX",
        "colab_type": "code",
        "outputId": "a588ca10-2a7f-45ca-ddc0-73af2c9a3466",
        "colab": {
          "base_uri": "https://localhost:8080/",
          "height": 278
        }
      },
      "source": [
        "\n",
        "y_train_over_sampled.value_counts().plot(kind='bar',title='Number of classes')\n",
        "plt.show()"
      ],
      "execution_count": 0,
      "outputs": [
        {
          "output_type": "display_data",
          "data": {
            "image/png": "[encoded data removed]",
            "text/plain": [
              "<Figure size 432x288 with 1 Axes>"
            ]
          },
          "metadata": {
            "tags": []
          }
        }
      ]
    },
    {
      "cell_type": "code",
      "metadata": {
        "id": "857_VZ20t2FK",
        "colab_type": "code",
        "colab": {}
      },
      "source": [
        ""
      ],
      "execution_count": 0,
      "outputs": []
    },
    {
      "cell_type": "markdown",
      "metadata": {
        "id": "_YHO6jYQ5j6A",
        "colab_type": "text"
      },
      "source": [
        "## Image Augmentation"
      ]
    },
    {
      "cell_type": "markdown",
      "metadata": {
        "id": "9_5814tyB8XY",
        "colab_type": "text"
      },
      "source": [
        "- As for images, we use typical image processing approaches such as flipping, rotating, padding etc."
      ]
    },
    {
      "cell_type": "code",
      "metadata": {
        "id": "DOeaXh1pDloT",
        "colab_type": "code",
        "outputId": "fb22d0b5-1feb-4323-8594-034153ec23a9",
        "colab": {
          "base_uri": "https://localhost:8080/",
          "height": 34
        }
      },
      "source": [
        "\n",
        "chosen_idx = np.random.choice(100, replace=False, size=1)\n",
        "\n",
        "image = X_train_array[chosen_idx,...,:3]\n",
        "image = np.squeeze(image,axis=0)\n",
        "\n",
        "print('image_shape:' , image.shape)"
      ],
      "execution_count": 148,
      "outputs": [
        {
          "output_type": "stream",
          "text": [
            "image_shape: (28, 28, 3)\n"
          ],
          "name": "stdout"
        }
      ]
    },
    {
      "cell_type": "markdown",
      "metadata": {
        "id": "zoEw9gbBC-PO",
        "colab_type": "text"
      },
      "source": [
        "### Horizontal Flip"
      ]
    },
    {
      "cell_type": "code",
      "metadata": {
        "id": "izXpId9n5l_F",
        "colab_type": "code",
        "outputId": "5b922409-b386-4f17-f161-a1ab85f7b61f",
        "colab": {
          "base_uri": "https://localhost:8080/",
          "height": 204
        }
      },
      "source": [
        "def horizontal_flip(image):\n",
        "  \n",
        "    image_hor_flip = image[:, ::-1, :]\n",
        "    \n",
        "    plt.subplot(121)\n",
        "    plt.imshow(image)\n",
        "        \n",
        "    plt.subplot(122)\n",
        "    plt.imshow(image_hor_flip)\n",
        "    plt.show()\n",
        "  \n",
        "horizontal_flip(image)"
      ],
      "execution_count": 149,
      "outputs": [
        {
          "output_type": "display_data",
          "data": {
            "image/png": "[encoded data removed]",
            "text/plain": [
              "<Figure size 432x288 with 2 Axes>"
            ]
          },
          "metadata": {
            "tags": []
          }
        }
      ]
    },
    {
      "cell_type": "markdown",
      "metadata": {
        "id": "56nxlQq8DBLC",
        "colab_type": "text"
      },
      "source": [
        "### Vertical Flip"
      ]
    },
    {
      "cell_type": "code",
      "metadata": {
        "id": "d6FNeSJxDC8_",
        "colab_type": "code",
        "outputId": "3e0bc087-0663-4bc4-99e7-958e1758f01a",
        "colab": {
          "base_uri": "https://localhost:8080/",
          "height": 204
        }
      },
      "source": [
        "def vertical_flip(image, rate=0.5):\n",
        "  \n",
        "    if np.random.rand() < rate:\n",
        "      \n",
        "      image_ver_flip = image[::-1, :, :]  \n",
        "  \n",
        "      plt.subplot(121)\n",
        "      plt.imshow(image)\n",
        "\n",
        "      plt.subplot(122)\n",
        "      plt.imshow(image_ver_flip)\n",
        "      plt.show()\n",
        "    \n",
        "vertical_flip(image)   "
      ],
      "execution_count": 150,
      "outputs": [
        {
          "output_type": "display_data",
          "data": {
            "image/png": "[encoded data removed]",
            "text/plain": [
              "<Figure size 432x288 with 2 Axes>"
            ]
          },
          "metadata": {
            "tags": []
          }
        }
      ]
    },
    {
      "cell_type": "markdown",
      "metadata": {
        "id": "qwv6OfCXDxbW",
        "colab_type": "text"
      },
      "source": [
        "### Random Rotate"
      ]
    },
    {
      "cell_type": "code",
      "metadata": {
        "id": "w7xgYhueD1ZE",
        "colab_type": "code",
        "outputId": "3ba9887b-404c-4926-af13-73d888f60d34",
        "colab": {
          "base_uri": "https://localhost:8080/",
          "height": 204
        }
      },
      "source": [
        "from scipy.ndimage.interpolation import rotate\n",
        "from imutils import resize\n",
        "\n",
        "\n",
        "def random_rotation(image, angle_range=(0, 180)):\n",
        "  \n",
        "    height, width, _ = image.shape\n",
        "    angle = np.random.randint(*angle_range)\n",
        "    image_rotate = rotate(image, angle)\n",
        "    image_rotate = resize(image_rotate, width,height)\n",
        "    \n",
        "    plt.subplot(121)\n",
        "    plt.imshow(image)\n",
        "\n",
        "    plt.subplot(122)\n",
        "    plt.imshow(image_rotate)\n",
        "    plt.show()\n",
        "\n",
        "random_rotation(image, angle_range=(0, 180))"
      ],
      "execution_count": 151,
      "outputs": [
        {
          "output_type": "display_data",
          "data": {
            "image/png": "[encoded data removed]",
            "text/plain": [
              "<Figure size 432x288 with 2 Axes>"
            ]
          },
          "metadata": {
            "tags": []
          }
        }
      ]
    },
    {
      "cell_type": "code",
      "metadata": {
        "id": "z4fIZmEXJF1F",
        "colab_type": "code",
        "colab": {}
      },
      "source": [
        ""
      ],
      "execution_count": 0,
      "outputs": []
    }
  ]
}