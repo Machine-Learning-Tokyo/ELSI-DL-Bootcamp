{
  "nbformat": 4,
  "nbformat_minor": 0,
  "metadata": {
    "colab": {
      "name": "data_visualization.ipynb",
      "version": "0.3.2",
      "provenance": [],
      "collapsed_sections": [],
      "include_colab_link": true
    },
    "kernelspec": {
      "name": "python3",
      "display_name": "Python 3"
    },
    "accelerator": "GPU"
  },
  "cells": [
    {
      "cell_type": "markdown",
      "metadata": {
        "id": "view-in-github",
        "colab_type": "text"
      },
      "source": [
        "<a href=\"https://colab.research.google.com/github/Machine-Learning-Tokyo/ELSI-DL-Bootcamp/blob/master/data_visualization.ipynb\" target=\"_parent\"><img src=\"https://colab.research.google.com/assets/colab-badge.svg\" alt=\"Open In Colab\"/></a>"
      ]
    },
    {
      "cell_type": "markdown",
      "metadata": {
        "id": "7-YuYe6SOx-A",
        "colab_type": "text"
      },
      "source": [
        "# Data Visualization (by Alisher)"
      ]
    },
    {
      "cell_type": "markdown",
      "metadata": {
        "id": "LMEAl0rYY_FU",
        "colab_type": "text"
      },
      "source": [
        "##Data pre-processing: read and preprocess the data"
      ]
    },
    {
      "cell_type": "markdown",
      "metadata": {
        "id": "f60mRI-YShvU",
        "colab_type": "text"
      },
      "source": [
        "Import necessary libraries "
      ]
    },
    {
      "cell_type": "code",
      "metadata": {
        "id": "veNstXniOzET",
        "colab_type": "code",
        "colab": {}
      },
      "source": [
        "import os\n",
        "import csv\n",
        "import numpy as np"
      ],
      "execution_count": 0,
      "outputs": []
    },
    {
      "cell_type": "markdown",
      "metadata": {
        "id": "zCJ9f3EaSqN-",
        "colab_type": "text"
      },
      "source": [
        "Get the Github Repository: clone the repository into your Google Drive \n",
        "If the folder (ELSI-DL-Bootcamp) already exists in your Google Drive, you can either skip this step or uncomment the first line (which deletes the current folder and clone the repo from scratch) "
      ]
    },
    {
      "cell_type": "code",
      "metadata": {
        "id": "HjNJCRIRO6GW",
        "colab_type": "code",
        "colab": {}
      },
      "source": [
        "!rm -rf ELSI-DL-Bootcamp\n",
        "!git clone https://github.com/Machine-Learning-Tokyo/ELSI-DL-Bootcamp.git\n"
      ],
      "execution_count": 0,
      "outputs": []
    },
    {
      "cell_type": "markdown",
      "metadata": {
        "id": "V3G91btwR0Uk",
        "colab_type": "text"
      },
      "source": [
        "List the files in the repository. \n",
        "\n",
        "We need:\n",
        "\n",
        "\n",
        "  **1. sat6annotations.csv**: class_names\n",
        "\n",
        "  **2. X_train_subset.csv**: subset of X_train (i.e., images from DeepSat6 Kaggle Dataset)\n",
        "\n",
        "  **3. y_train_subset.csv**: subset of y_train (i.e., image labels of X_train images)\n"
      ]
    },
    {
      "cell_type": "code",
      "metadata": {
        "id": "-vywNd_PPBEt",
        "colab_type": "code",
        "colab": {}
      },
      "source": [
        "from subprocess import check_output\n",
        "print(check_output([\"ls\", \"./ELSI-DL-Bootcamp\"]).decode(\"utf8\"))"
      ],
      "execution_count": 0,
      "outputs": []
    },
    {
      "cell_type": "markdown",
      "metadata": {
        "id": "xy5iB9ZmWD3h",
        "colab_type": "text"
      },
      "source": [
        "Import panda library and read csv files using panda:\n",
        "- [pandas](https://pandas.pydata.org):  is an open source library providing high-performance, easy-to-use data structures and data analysis tools for the Python."
      ]
    },
    {
      "cell_type": "code",
      "metadata": {
        "id": "apD_ouMhUa0x",
        "colab_type": "code",
        "colab": {}
      },
      "source": [
        "import pandas as pd\n",
        "X_train = pd.read_csv('./ELSI-DL-Bootcamp/X_train_subset.csv', header=None)\n",
        "y_train = pd.read_csv('./ELSI-DL-Bootcamp/y_train_subset.csv', header=None)\n",
        "class_names = list(pd.read_csv('./ELSI-DL-Bootcamp/sat6annotations.csv', header=None)[0])\n",
        "\n",
        "print(\"Shape of X_train: {}\".format(X_train.shape))\n",
        "print(\"Shape of y_train: {}\".format(y_train.shape))\n",
        "print(\"Class names: {}\".format(class_names))"
      ],
      "execution_count": 0,
      "outputs": []
    },
    {
      "cell_type": "markdown",
      "metadata": {
        "id": "PPsjK96Laf4s",
        "colab_type": "text"
      },
      "source": [
        "**y_train (labels) are one-hot-vectors, indicating the class with \"1\" entries**"
      ]
    },
    {
      "cell_type": "code",
      "metadata": {
        "id": "R3iBn3FGaIvY",
        "colab_type": "code",
        "colab": {}
      },
      "source": [
        "print(y_train.loc[:5,:].values)"
      ],
      "execution_count": 0,
      "outputs": []
    },
    {
      "cell_type": "markdown",
      "metadata": {
        "id": "X99YylN1W2hD",
        "colab_type": "text"
      },
      "source": [
        "**We need categorical labels for visual consistency**"
      ]
    },
    {
      "cell_type": "code",
      "metadata": {
        "id": "ZrPonrGNZu31",
        "colab_type": "code",
        "colab": {}
      },
      "source": [
        "feat_cols = ['pixel'+str(i) for i in range(X_train.shape[1])]\n",
        "df = pd.DataFrame(X_train.values, columns=feat_cols)\n",
        "\n",
        "labels = []\n",
        "numeric_labels = []\n",
        "for _, cols in y_train.iterrows():\n",
        "    labels.append(class_names[np.argmax(cols.to_list())])\n",
        "    numeric_labels.append(np.argmax(cols.to_list()))\n",
        "\n",
        "\n",
        "df['y'] = labels\n",
        "df['numeric_label'] = numeric_labels\n"
      ],
      "execution_count": 0,
      "outputs": []
    },
    {
      "cell_type": "markdown",
      "metadata": {
        "id": "hdwXJCbKa3qC",
        "colab_type": "text"
      },
      "source": [
        "**Let's check how many data we have for each class:**"
      ]
    },
    {
      "cell_type": "code",
      "metadata": {
        "id": "NPHcCOWta2gX",
        "colab_type": "code",
        "colab": {}
      },
      "source": [
        "for label_name in class_names:\n",
        "  print(\"{}: {}\".format(label_name, labels.count(label_name)))"
      ],
      "execution_count": 0,
      "outputs": []
    },
    {
      "cell_type": "markdown",
      "metadata": {
        "id": "e3CxYDw2WrYn",
        "colab_type": "text"
      },
      "source": [
        "## Data Visualization (Reference: [data visualization](https://towardsdatascience.com/visualising-high-dimensional-datasets-using-pca-and-t-sne-in-python-8ef87e7915b))"
      ]
    },
    {
      "cell_type": "markdown",
      "metadata": {
        "id": "S7eLqiEpWqt3",
        "colab_type": "text"
      },
      "source": [
        "###Import necessary libraries: \n",
        "\n",
        "- [seaborn](https://seaborn.pydata.org): is a Python data visualization library based on matplotlib, provides a high-level interface for drawing attractive and informative statistical graphics.\n",
        "- [sklearn](http://scikit-learn.github.io/stable): is a library in Python that provides many unsupervised and supervised learning algorithms. It’s built upon NumPy, pandas, and Matplotlib.\n",
        "- [matplotlib](https://matplotlib.org): Matplotlib is a Python 2D plotting library which provides high quality figures.\n",
        "- [sklearn.decomposition.PCA](https://scikit-learn.org/stable/modules/generated/sklearn.decomposition.PCA.html): **Principal Component Analysis (PCA)** is a linear dimensionality reduction using Singular Value Decomposition of the data to project it to a lower dimensional space.\n",
        "- [sklearn.manifold.TSNE](https://scikit-learn.org/stable/modules/generated/sklearn.manifold.TSNE.html): **t-distributed Stochastic Neighbor Embedding (t-SNE)** is a tool to visualize high-dimensional data. Mostly is is good to use t-SNE with some dimensionality reduction algorithms (for example, PCA)\n",
        "- matplotlib.pyplot\n"
      ]
    },
    {
      "cell_type": "code",
      "metadata": {
        "id": "3skhAnvhOxnv",
        "colab_type": "code",
        "colab": {}
      },
      "source": [
        "import seaborn as sns\n",
        "from sklearn.decomposition import PCA\n",
        "from sklearn.manifold import TSNE\n",
        "%matplotlib inline\n",
        "import matplotlib.pyplot as plt\n",
        "import time\n"
      ],
      "execution_count": 0,
      "outputs": []
    },
    {
      "cell_type": "markdown",
      "metadata": {
        "id": "RiNdgm9ObE-L",
        "colab_type": "text"
      },
      "source": [
        "This is for reproducability of the results (seed):"
      ]
    },
    {
      "cell_type": "code",
      "metadata": {
        "id": "gCbLOBVqSKt6",
        "colab_type": "code",
        "colab": {}
      },
      "source": [
        "np.random.seed(42)\n",
        "rndperm = np.random.permutation(df.shape[0])"
      ],
      "execution_count": 0,
      "outputs": []
    },
    {
      "cell_type": "markdown",
      "metadata": {
        "id": "Dqxc0LCMkgGT",
        "colab_type": "text"
      },
      "source": [
        "**Fit PCA (with 3 principal components) to our data. PCA is using the correlation between some dimensions and tries to provide a minimum number of variables that keeps the maximum amount of variation or information about how the original data is distributed.**\n"
      ]
    },
    {
      "cell_type": "code",
      "metadata": {
        "id": "SxjQWOP9SNh7",
        "colab_type": "code",
        "colab": {}
      },
      "source": [
        "pca = PCA(n_components=3)\n",
        "pca_result = pca.fit_transform(df[feat_cols].values)\n",
        "\n",
        "# add new columns to our dataFrame: pca-one, pca-two, pca-three\n",
        "df['pca-one'] = pca_result[:,0]\n",
        "df['pca-two'] = pca_result[:,1] \n",
        "df['pca-three'] = pca_result[:,2]\n",
        "print('Explained variation per principal component: {}'.format(pca.explained_variance_ratio_))"
      ],
      "execution_count": 0,
      "outputs": []
    },
    {
      "cell_type": "markdown",
      "metadata": {
        "id": "4tdJVD7HlZtJ",
        "colab_type": "text"
      },
      "source": [
        "**These variations mean:**\n",
        "*   the 1st principal component of PCA (first dimension of compressed data) has the highest variance: **0.65892326**\n",
        "*   the 2nd principal component of PCA (second dimension of compressed data) has the variance of: **0.17176854**\n",
        "*   the 3rd principal component of PCA (third dimension of compressed data) has the variance of: **0.01565496**\n",
        "\n",
        "**Which means:**\n",
        "*   we saved **84%** of information from original data (images)\n",
        "*   when we describe the data with 3 dimensions, we would lose **16%** of information\n",
        "*   when we describe the data with 2 dimensions, we would lose **17.5%** of information\n",
        "\n",
        "\n",
        "\n",
        "\n"
      ]
    },
    {
      "cell_type": "code",
      "metadata": {
        "id": "Z_11efH8SPRx",
        "colab_type": "code",
        "colab": {}
      },
      "source": [
        "plt.figure(figsize=(16,10))\n",
        "g_pca_2d = sns.scatterplot(\n",
        "    x=\"pca-one\", y=\"pca-two\",\n",
        "    hue=\"y\",\n",
        "    palette=sns.color_palette(\"bright\", 6),\n",
        "    data=df.loc[:,:],\n",
        "    legend=\"full\",\n",
        "    alpha=0.3\n",
        ")\n",
        "\n",
        "g_pca_2d.legend(loc='upper right')\n",
        "g_pca_2d.set_title(\"First two dimensions of PCA-compressed-data\")"
      ],
      "execution_count": 0,
      "outputs": []
    },
    {
      "cell_type": "code",
      "metadata": {
        "id": "oXtX70c0SRQn",
        "colab_type": "code",
        "colab": {}
      },
      "source": [
        "from mpl_toolkits.mplot3d import Axes3D\n",
        "ax = plt.figure(figsize=(16,10)).gca(projection='3d')\n",
        "ax.scatter(\n",
        "    xs=df.loc[rndperm,:][\"pca-one\"], \n",
        "    ys=df.loc[rndperm,:][\"pca-two\"], \n",
        "    zs=df.loc[rndperm,:][\"pca-three\"], \n",
        "    c=df.loc[rndperm,:][\"numeric_label\"], \n",
        "    cmap='tab10'\n",
        ")\n",
        "ax.set_xlabel('pca-one')\n",
        "ax.set_ylabel('pca-two')\n",
        "ax.set_zlabel('pca-three')\n",
        "\n",
        "plt.show()\n"
      ],
      "execution_count": 0,
      "outputs": []
    },
    {
      "cell_type": "markdown",
      "metadata": {
        "id": "uLzoI7TAnzkD",
        "colab_type": "text"
      },
      "source": [
        "\n",
        "\n",
        "---\n",
        "\n",
        "\n",
        "\n",
        "---\n",
        "\n",
        "**fit TSNE to PCA-compressed-data**:\n",
        "*   First, compress the data two 3-dimensions\n",
        "*   Then, use TSNE to visualize the data in 2D\n",
        "\n"
      ]
    },
    {
      "cell_type": "code",
      "metadata": {
        "id": "jeZ5ZJaTSUB6",
        "colab_type": "code",
        "colab": {}
      },
      "source": [
        "df_subset = df.loc[rndperm,:].copy()\n",
        "data_subset = df_subset[feat_cols].values\n",
        "pca = PCA(n_components=3)\n",
        "pca_result = pca.fit_transform(data_subset)\n",
        "df_subset['pca-one'] = pca_result[:,0]\n",
        "df_subset['pca-two'] = pca_result[:,1] \n",
        "df_subset['pca-three'] = pca_result[:,2]\n",
        "time_start = time.time()\n",
        "tsne = TSNE(n_components=2, verbose=1, perplexity=40, n_iter=300)\n",
        "tsne_results = tsne.fit_transform(pca_result)\n",
        "print('t-SNE done! Time elapsed: {} seconds'.format(time.time()-time_start))"
      ],
      "execution_count": 0,
      "outputs": []
    },
    {
      "cell_type": "markdown",
      "metadata": {
        "id": "nNs9AzdUoLb0",
        "colab_type": "text"
      },
      "source": [
        "**Plot TSNE using seaborn's scatterplot:**"
      ]
    },
    {
      "cell_type": "code",
      "metadata": {
        "id": "76w0OzPYSWvf",
        "colab_type": "code",
        "colab": {}
      },
      "source": [
        "df_subset['tsne-2d-one'] = tsne_results[:,0]\n",
        "df_subset['tsne-2d-two'] = tsne_results[:,1]\n",
        "plt.figure(figsize=(16,10))\n",
        "sns.scatterplot(\n",
        "    x=\"tsne-2d-one\", y=\"tsne-2d-two\",\n",
        "    hue=\"y\",\n",
        "    palette=sns.color_palette(\"bright\", 6),\n",
        "    data=df_subset,\n",
        "    legend=\"full\",\n",
        "    alpha=0.3\n",
        ")"
      ],
      "execution_count": 0,
      "outputs": []
    },
    {
      "cell_type": "markdown",
      "metadata": {
        "id": "83VVyc9UoVQI",
        "colab_type": "text"
      },
      "source": [
        "\n",
        "\n",
        "---\n",
        "\n",
        "\n",
        "\n",
        "---\n",
        "\n",
        "**You don't necessarily do PCA-compression into 3-dimensions:**\n",
        "*   If you want to save larger portion of data before TSNE-visualization, reduce the dimensionaly into k-dimensions\n",
        "*   For example, reduce the dimensionality of data from **3136** to **5**.\n",
        "*   Fit another PCA with 5 principal components\n",
        "*   Fit TSNE to PCA-compressed-data (with 5 dimensions) to visualize the data in 2D\n",
        "\n"
      ]
    },
    {
      "cell_type": "code",
      "metadata": {
        "id": "SeABjG2Gd0gM",
        "colab_type": "code",
        "colab": {}
      },
      "source": [
        "pca_5 = PCA(n_components=5)\n",
        "pca_result_5 = pca_5.fit_transform(data_subset)\n",
        "print('Explained variation for 5 principal components: {}'.format(pca_5.explained_variance_ratio_))\n",
        "print('Cumulative explained variation for 5 principal components: {}'.format(np.sum(pca_5.explained_variance_ratio_)))"
      ],
      "execution_count": 0,
      "outputs": []
    },
    {
      "cell_type": "markdown",
      "metadata": {
        "id": "6OIr_vUxpbS0",
        "colab_type": "text"
      },
      "source": [
        "\n",
        "**These variations mean:**\n",
        "*   the 1st principal component of PCA (first dimension of compressed data) has the highest variance: **0.65892326**\n",
        "*   the 2nd principal component of PCA (second dimension of compressed data) has the variance of: **0.17176854**\n",
        "*   the 3rd principal component of PCA (third dimension of compressed data) has the variance of: **0.01565496**\n",
        "*   the 4th principal component of PCA (fourth dimension of compressed data) has the variance of: **0.00871125**\n",
        "*   the 5th principal component of PCA (fifth dimension of compressed data) has the variance of: **0.00635331**\n",
        "\n",
        "**Which means:**\n",
        "*   we saved **86.14%** of information from original data (images)\n",
        "*   when we describe the data with 5 dimensions, we would lose **13.86%** of information\n"
      ]
    },
    {
      "cell_type": "code",
      "metadata": {
        "id": "YtE4mL7FpOZl",
        "colab_type": "code",
        "colab": {}
      },
      "source": [
        "time_start = time.time()\n",
        "tsne = TSNE(n_components=2, verbose=0, perplexity=40, n_iter=300)\n",
        "tsne_pca_results = tsne.fit_transform(pca_result_5)\n",
        "print('t-SNE done! Time elapsed: {} seconds'.format(time.time()-time_start))"
      ],
      "execution_count": 0,
      "outputs": []
    },
    {
      "cell_type": "markdown",
      "metadata": {
        "id": "wjULq-Xvp-j2",
        "colab_type": "text"
      },
      "source": [
        "Let's plot three different plots together:\n",
        "\n",
        "\n",
        "1.   PCA plot (fit PCA with 3 principal components and directly visualize)\n",
        "2.   TSNE plot (fit TSNE to PCA-compressed-data with 3 principal components) on 2D\n",
        "3.   TSNE plot (fit TSNE to PCA-compressed-data with 5 principal components) on 2D\n",
        "\n"
      ]
    },
    {
      "cell_type": "code",
      "metadata": {
        "id": "mYDn2PmnSYfF",
        "colab_type": "code",
        "colab": {}
      },
      "source": [
        "df_subset['tsne-pca5-one'] = tsne_pca_results[:,0]\n",
        "df_subset['tsne-pca5-two'] = tsne_pca_results[:,1]\n",
        "\n",
        "\n",
        "plt.figure(figsize=(30,8))\n",
        "ax1 = plt.subplot(1, 3, 1)\n",
        "g1 = sns.scatterplot(\n",
        "    x=\"pca-one\", y=\"pca-two\",\n",
        "    hue=\"y\",\n",
        "    palette=sns.color_palette(\"bright\", 6),\n",
        "    data=df_subset,\n",
        "    legend=\"full\",\n",
        "    alpha=0.3,\n",
        "    ax=ax1\n",
        ")\n",
        "ax2 = plt.subplot(1, 3, 2)\n",
        "g2 = sns.scatterplot(\n",
        "    x=\"tsne-2d-one\", y=\"tsne-2d-two\",\n",
        "    hue=\"y\",\n",
        "    palette=sns.color_palette(\"bright\", 6),\n",
        "    data=df_subset,\n",
        "    legend=\"full\",\n",
        "    alpha=0.3,\n",
        "    ax=ax2\n",
        ")\n",
        "ax3 = plt.subplot(1, 3, 3)\n",
        "g3 = sns.scatterplot(\n",
        "    x=\"tsne-pca5-one\", y=\"tsne-pca5-two\",\n",
        "    hue=\"y\",\n",
        "    palette=sns.color_palette(\"bright\", 6),\n",
        "    data=df_subset,\n",
        "    legend=\"full\",\n",
        "    alpha=0.3,\n",
        "    ax=ax3\n",
        ")\n",
        "\n",
        "g1.legend(loc='upper right')\n",
        "g1.set_title(\"PCA plot\")\n",
        "g2.legend(loc='upper right')\n",
        "g2.set_title(\"t-SNE plot of PCA (compressed into 3 dimensions)\")\n",
        "g3.legend(loc='upper right')\n",
        "g3.set_title(\"t-SNE plot of PCA (compressed into 5 dimensions)\")\n"
      ],
      "execution_count": 0,
      "outputs": []
    },
    {
      "cell_type": "markdown",
      "metadata": {
        "id": "0lMTCkCH5e8A",
        "colab_type": "text"
      },
      "source": [
        "\n",
        "\n",
        "---\n",
        "\n",
        "\n",
        "\n",
        "---\n",
        "\n",
        "# **Thank you for listening!!!**"
      ]
    },
    {
      "cell_type": "code",
      "metadata": {
        "id": "RVZoevk13kyc",
        "colab_type": "code",
        "colab": {}
      },
      "source": [
        "!pip install art==3.6\n",
        "from art import *\n",
        "tprint(\"Thank you from\", font=\"sub-zero\")\n",
        "tprint(\"(MLT Team)\", \"sub-zero\")"
      ],
      "execution_count": 0,
      "outputs": []
    }
  ]
}